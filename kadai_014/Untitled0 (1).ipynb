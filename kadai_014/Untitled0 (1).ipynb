{
  "nbformat": 4,
  "nbformat_minor": 0,
  "metadata": {
    "colab": {
      "provenance": []
    },
    "kernelspec": {
      "name": "python3",
      "display_name": "Python 3"
    },
    "language_info": {
      "name": "python"
    }
  },
  "cells": [
    {
      "cell_type": "code",
      "source": [
        "def show_user_name():\n",
        "    # ローカル変数を定義する\n",
        "    user_name = \"侍太郎\"\n",
        "\n",
        "    # ローカルスコープの範囲内でローカル変数を使う\n",
        "    print(user_name)\n",
        "\n",
        "show_user_name()\n",
        "\n",
        "# ローカルスコープの範囲外でローカル変数を使う（エラーが発生する）\n",
        "print(user_name)"
      ],
      "metadata": {
        "colab": {
          "base_uri": "https://localhost:8080/",
          "height": 200
        },
        "id": "CtKhLL8Nh8BX",
        "outputId": "63bf3631-1995-415c-bc38-623fde2fd461"
      },
      "execution_count": 1,
      "outputs": [
        {
          "output_type": "stream",
          "name": "stdout",
          "text": [
            "侍太郎\n"
          ]
        },
        {
          "output_type": "error",
          "ename": "NameError",
          "evalue": "name 'user_name' is not defined",
          "traceback": [
            "\u001b[0;31m---------------------------------------------------------------------------\u001b[0m",
            "\u001b[0;31mNameError\u001b[0m                                 Traceback (most recent call last)",
            "\u001b[0;32m/tmp/ipython-input-115877878.py\u001b[0m in \u001b[0;36m<cell line: 0>\u001b[0;34m()\u001b[0m\n\u001b[1;32m      9\u001b[0m \u001b[0;34m\u001b[0m\u001b[0m\n\u001b[1;32m     10\u001b[0m \u001b[0;31m# ローカルスコープの範囲外でローカル変数を使う（エラーが発生する）\u001b[0m\u001b[0;34m\u001b[0m\u001b[0;34m\u001b[0m\u001b[0m\n\u001b[0;32m---> 11\u001b[0;31m \u001b[0mprint\u001b[0m\u001b[0;34m(\u001b[0m\u001b[0muser_name\u001b[0m\u001b[0;34m)\u001b[0m\u001b[0;34m\u001b[0m\u001b[0;34m\u001b[0m\u001b[0m\n\u001b[0m",
            "\u001b[0;31mNameError\u001b[0m: name 'user_name' is not defined"
          ]
        }
      ]
    },
    {
      "cell_type": "code",
      "source": [
        "user_name = \"侍花子\"\n",
        "\n",
        "def show_user_name():\n",
        "\n",
        "  user_name = \"侍太郎\"\n",
        "\n",
        "  print(user_name)\n",
        "\n",
        "show_user_name()\n",
        "\n",
        "print(user_name)"
      ],
      "metadata": {
        "colab": {
          "base_uri": "https://localhost:8080/"
        },
        "id": "gbua8hiziAuT",
        "outputId": "0508871e-4578-4714-b4f3-2c2e56d60aaf"
      },
      "execution_count": 2,
      "outputs": [
        {
          "output_type": "stream",
          "name": "stdout",
          "text": [
            "侍太郎\n",
            "侍花子\n"
          ]
        }
      ]
    },
    {
      "cell_type": "code",
      "source": [
        "price1 = 100\n",
        "price2 = 200\n",
        "\n",
        "def total():\n",
        "    tax = 1.1\n",
        "    return (price1 + price2) * tax\n",
        "\n",
        "print (total())"
      ],
      "metadata": {
        "colab": {
          "base_uri": "https://localhost:8080/"
        },
        "id": "8l2XJGxSkqcX",
        "outputId": "5859ce6a-9264-4d5b-9f2e-a9fa4bbb3b81"
      },
      "execution_count": 8,
      "outputs": [
        {
          "output_type": "stream",
          "name": "stdout",
          "text": [
            "330.0\n"
          ]
        }
      ]
    },
    {
      "cell_type": "code",
      "source": [],
      "metadata": {
        "id": "W5-XZNFzkrS3"
      },
      "execution_count": null,
      "outputs": []
    }
  ]
}