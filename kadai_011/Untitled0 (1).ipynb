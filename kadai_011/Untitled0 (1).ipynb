{
  "nbformat": 4,
  "nbformat_minor": 0,
  "metadata": {
    "colab": {
      "provenance": []
    },
    "kernelspec": {
      "name": "python3",
      "display_name": "Python 3"
    },
    "language_info": {
      "name": "python"
    }
  },
  "cells": [
    {
      "cell_type": "code",
      "execution_count": null,
      "metadata": {
        "colab": {
          "base_uri": "https://localhost:8080/"
        },
        "id": "TTTlx5_WJ0hA",
        "outputId": "3c51d13a-1c69-4693-8664-40dfeb9de697"
      },
      "outputs": [
        {
          "output_type": "stream",
          "name": "stdout",
          "text": [
            "63\n"
          ]
        }
      ],
      "source": [
        "print(45+18)"
      ]
    },
    {
      "cell_type": "code",
      "source": [
        "print(45>18)\n",
        "\n",
        "print(45<18)\n",
        "\n",
        "print(4!=5)"
      ],
      "metadata": {
        "colab": {
          "base_uri": "https://localhost:8080/"
        },
        "id": "JBL4c6KtK1ME",
        "outputId": "401650d3-e3d3-4e47-c6c7-4de6531d84f3"
      },
      "execution_count": null,
      "outputs": [
        {
          "output_type": "stream",
          "name": "stdout",
          "text": [
            "True\n",
            "False\n",
            "True\n"
          ]
        }
      ]
    },
    {
      "cell_type": "code",
      "source": [
        "import random\n",
        "\n",
        "num = random.randint(0,4)\n",
        "\n",
        "print(num)\n",
        "\n",
        "if 1 < num and num < 3:\n",
        "  print(\"大当たりです\")\n",
        "\n",
        "elif num == 3:\n",
        "  print(\"当たりです\")\n",
        "\n",
        "else:\n",
        "  print(\"はずれです\")"
      ],
      "metadata": {
        "colab": {
          "base_uri": "https://localhost:8080/"
        },
        "id": "YcGAVyuSK5z2",
        "outputId": "a058e0ef-2808-4437-d290-a008c0f6b1d9"
      },
      "execution_count": null,
      "outputs": [
        {
          "output_type": "stream",
          "name": "stdout",
          "text": [
            "3\n",
            "当たりです\n"
          ]
        }
      ]
    },
    {
      "cell_type": "code",
      "source": [
        "import random\n",
        "\n",
        "num = random.randint(0,4)\n",
        "\n",
        "print(num)\n",
        "\n",
        "if 1 < num and num < 3:\n",
        "  print(\"変数numは1より大きく、3より小さいです\")\n",
        "\n",
        "else:\n",
        "  print(\"and条件が成り立ちませんでした\")\n",
        "\n",
        "  if num == 1 or num == 3:\n",
        "    print(\"変数numは1または3です\")\n",
        "  else:\n",
        "    print(\"or条件が成り立ちませんでした\")"
      ],
      "metadata": {
        "colab": {
          "base_uri": "https://localhost:8080/"
        },
        "id": "fWwD93C2Lme-",
        "outputId": "8af1d870-9c8f-46fa-9fa3-09478375ce37"
      },
      "execution_count": null,
      "outputs": [
        {
          "output_type": "stream",
          "name": "stdout",
          "text": [
            "0\n",
            "and条件が成り立ちませんでした\n",
            "or条件が成り立ちませんでした\n"
          ]
        }
      ]
    },
    {
      "cell_type": "code",
      "source": [
        "import random\n",
        "var = random.randint(0,100)\n",
        "\n",
        "if var % 3 == 0 and var % 5 == 0:\n",
        "    print(\"FizzBuzz\")\n",
        "\n",
        "elif var % 5 == 0:\n",
        "  print(\"Buzz\")\n",
        "\n",
        "elif var % 3 == 0:\n",
        "  print(\"Fizz\")\n",
        "\n",
        "else:\n",
        "  print(var)\n",
        "\n",
        "\n",
        "\n",
        "\n",
        "\n",
        "\n"
      ],
      "metadata": {
        "colab": {
          "base_uri": "https://localhost:8080/"
        },
        "id": "ZaLpdw6tOI8R",
        "outputId": "62caaf3e-794b-4de8-96cf-d99016ce3a18"
      },
      "execution_count": null,
      "outputs": [
        {
          "output_type": "stream",
          "name": "stdout",
          "text": [
            "Buzz\n"
          ]
        }
      ]
    },
    {
      "cell_type": "code",
      "source": [
        "import random\n",
        "\n",
        "for i in range(1,11):\n",
        "\n",
        "  num = random.randint(1,20)\n",
        "  print(f\"{i}回目の結果は{num}です。\")\n",
        "\n",
        "  if num == 20:\n",
        "    print(\"20が出たので繰り返し処理を強制終了します。\")\n",
        "    break"
      ],
      "metadata": {
        "colab": {
          "base_uri": "https://localhost:8080/"
        },
        "id": "vXP3Y1I6UOYE",
        "outputId": "94bcc625-d19d-45f3-ba29-517bbbfbea62"
      },
      "execution_count": null,
      "outputs": [
        {
          "output_type": "stream",
          "name": "stdout",
          "text": [
            "1回目の結果は19です。\n",
            "2回目の結果は11です。\n",
            "3回目の結果は14です。\n",
            "4回目の結果は11です。\n",
            "5回目の結果は3です。\n",
            "6回目の結果は19です。\n",
            "7回目の結果は9です。\n",
            "8回目の結果は11です。\n",
            "9回目の結果は12です。\n",
            "10回目の結果は19です。\n"
          ]
        }
      ]
    },
    {
      "cell_type": "code",
      "source": [
        "for i in range(1,11):\n",
        "\n",
        "  if i % 2 == 1:\n",
        "    continue\n",
        "\n",
        "  print(i)"
      ],
      "metadata": {
        "colab": {
          "base_uri": "https://localhost:8080/"
        },
        "id": "PMlKtRzzWELY",
        "outputId": "4cbb2f87-7cb5-48f7-d858-3560e9e960bf"
      },
      "execution_count": null,
      "outputs": [
        {
          "output_type": "stream",
          "name": "stdout",
          "text": [
            "2\n",
            "4\n",
            "6\n",
            "8\n",
            "10\n"
          ]
        }
      ]
    },
    {
      "cell_type": "code",
      "source": [
        "import random\n",
        "num = 1\n",
        "\n",
        "print(f\"最初の値は{num}です。\")\n",
        "\n",
        "while num != 0:\n",
        "  num = random.randint(0,4)\n",
        "  print(f\"現在の値は{num}でーす！\")"
      ],
      "metadata": {
        "colab": {
          "base_uri": "https://localhost:8080/"
        },
        "id": "p8FdcPtdWbaf",
        "outputId": "171cf90a-012e-420e-a9d4-2f4ad663fbd6"
      },
      "execution_count": null,
      "outputs": [
        {
          "output_type": "stream",
          "name": "stdout",
          "text": [
            "最初の値は1です。\n",
            "現在の値は0でーす！\n"
          ]
        }
      ]
    },
    {
      "cell_type": "code",
      "source": [
        "#ランダムな整数を利用するため、記述が必要です。\n",
        "import random\n",
        "\n",
        "# 変数numに0~4までのランダムな整数を代入する\n",
        "num = random.randint(0, 4)\n",
        "\n",
        "# カウンタ変数を用意する\n",
        "i = 1\n",
        "\n",
        "# 変数numの最初の値を出力する（確認用）\n",
        "print(f\"最初の値は{num}です。\")\n",
        "\n",
        "# 変数numの値が0以外である間、変数numの値を出力し続ける\n",
        "while num != 0:\n",
        "    # 変数numに0~4までのランダムな整数を代入する\n",
        "    num = random.randint(0, 4)\n",
        "\n",
        "    # カウンタ変数iの値が5であれば、break文で繰り返し処理を強制終了する\n",
        "    if i == 5:\n",
        "        print(\"5回目なので繰り返し処理を強制終了します。\")\n",
        "        break\n",
        "\n",
        "    # 次の条件式で比較される、変数numの現在の値を出力する\n",
        "    print(f\"現在の値は{num}です。\")\n",
        "    #　カウンタ変数のの値を1増やす\n",
        "    i = i + 1"
      ],
      "metadata": {
        "colab": {
          "base_uri": "https://localhost:8080/"
        },
        "id": "cs4-KSNiZvTE",
        "outputId": "7cfce0dd-38c3-4131-c0dd-67327cc2d543"
      },
      "execution_count": null,
      "outputs": [
        {
          "output_type": "stream",
          "name": "stdout",
          "text": [
            "最初の値は1です。\n",
            "現在の値は4です。\n",
            "現在の値は3です。\n",
            "現在の値は3です。\n",
            "現在の値は2です。\n",
            "5回目なので繰り返し処理を強制終了します。\n"
          ]
        }
      ]
    },
    {
      "cell_type": "code",
      "source": [
        "import random\n",
        "\n",
        "sum = 0\n",
        "\n",
        "while sum < 20:\n",
        "  num = random.randint(1,10)\n",
        "\n",
        "  print(f\"{num}が出ました。\")\n",
        "\n",
        "  if num % 2 == 0:\n",
        "    print(\"偶数なので加算しません。\")\n",
        "    continue\n",
        "\n",
        "  sum = sum + num\n",
        "  print(f\"現在の合計は{sum}です。\")\n"
      ],
      "metadata": {
        "colab": {
          "base_uri": "https://localhost:8080/"
        },
        "id": "aQieOEFXaYvP",
        "outputId": "41c63065-ece7-4161-e44e-18a4100cc9ec"
      },
      "execution_count": null,
      "outputs": [
        {
          "output_type": "stream",
          "name": "stdout",
          "text": [
            "8が出ました。\n",
            "偶数なので加算しません。\n",
            "3が出ました。\n",
            "現在の合計は3です。\n",
            "4が出ました。\n",
            "偶数なので加算しません。\n",
            "9が出ました。\n",
            "現在の合計は12です。\n",
            "7が出ました。\n",
            "現在の合計は19です。\n",
            "1が出ました。\n",
            "現在の合計は20です。\n"
          ]
        }
      ]
    },
    {
      "cell_type": "code",
      "source": [
        "user_names = [\"侍太郎\",\"侍一郎\", \"侍二郎\", \"侍三郎\", \"侍四郎\"]\n",
        "\n",
        "for user_name in user_names:\n",
        "  print(user_name)"
      ],
      "metadata": {
        "colab": {
          "base_uri": "https://localhost:8080/"
        },
        "id": "NbXFPa_e-nXr",
        "outputId": "d623beb0-3b0b-402b-8644-6c36856cd03c"
      },
      "execution_count": null,
      "outputs": [
        {
          "output_type": "stream",
          "name": "stdout",
          "text": [
            "侍太郎\n",
            "侍一郎\n",
            "侍二郎\n",
            "侍三郎\n",
            "侍四郎\n"
          ]
        }
      ]
    },
    {
      "cell_type": "code",
      "source": [
        "personal_data = {\"name\":\"侍太郎\", \"age\":36, \"gender\":\"男性\"}\n",
        "\n",
        "for key, value in personal_data.items():\n",
        "  print(f\"{key}は{value}です。\")\n",
        "\n",
        "for value in personal_data.values():\n",
        "  print(value)"
      ],
      "metadata": {
        "colab": {
          "base_uri": "https://localhost:8080/"
        },
        "id": "a-stwzt_Qr4t",
        "outputId": "ddb78f21-cf4e-4d72-ac8e-0f00d01c2ab6"
      },
      "execution_count": null,
      "outputs": [
        {
          "output_type": "stream",
          "name": "stdout",
          "text": [
            "nameは侍太郎です。\n",
            "ageは36です。\n",
            "genderは男性です。\n",
            "侍太郎\n",
            "36\n",
            "男性\n"
          ]
        }
      ]
    },
    {
      "cell_type": "code",
      "source": [
        "user_names = [\"侍太郎\", \"侍一郎\", \"侍二郎\", \"侍四郎\"]\n",
        "\n",
        "for index, value in enumerate(user_names):\n",
        "  print(f\"{index}: {value}\")"
      ],
      "metadata": {
        "colab": {
          "base_uri": "https://localhost:8080/"
        },
        "id": "VDiVagKuRhY7",
        "outputId": "22dd711f-e85b-4cdf-de5f-86d5dcebad13"
      },
      "execution_count": null,
      "outputs": [
        {
          "output_type": "stream",
          "name": "stdout",
          "text": [
            "0: 侍太郎\n",
            "1: 侍一郎\n",
            "2: 侍二郎\n",
            "3: 侍四郎\n"
          ]
        }
      ]
    },
    {
      "cell_type": "code",
      "source": [
        "user_names = [\"侍太郎\", \"侍一郎\", \"侍二郎\", \"侍三郎\", \"侍四郎\"]\n",
        "\n",
        "target = \"侍二郎\"\n",
        "\n",
        "for user_name in user_names:\n",
        "  print(user_name)\n",
        "\n",
        "  if(user_name == target):\n",
        "    print(f\"(target)さんが見つかったので、繰り返し処理を強制終了します。\")\n",
        "    break"
      ],
      "metadata": {
        "colab": {
          "base_uri": "https://localhost:8080/"
        },
        "id": "jalxhOtSX-lQ",
        "outputId": "a2086fa8-be5c-43c4-e12f-648c5eaef26a"
      },
      "execution_count": null,
      "outputs": [
        {
          "output_type": "stream",
          "name": "stdout",
          "text": [
            "侍太郎\n",
            "侍一郎\n",
            "侍二郎\n",
            "(target)さんが見つかったので、繰り返し処理を強制終了します。\n"
          ]
        }
      ]
    },
    {
      "cell_type": "code",
      "source": [
        "personal_data = {\"name\": \"侍太郎\", \"age\": 36, \"gender\": \"男性\"}\n",
        "\n",
        "for key in personal_data.keys():\n",
        "    print(key)"
      ],
      "metadata": {
        "id": "vyGfhP_ipcYl",
        "colab": {
          "base_uri": "https://localhost:8080/"
        },
        "outputId": "bfeea8de-aafa-4ec6-f6aa-216844f3f0c0"
      },
      "execution_count": 12,
      "outputs": [
        {
          "output_type": "stream",
          "name": "stdout",
          "text": [
            "name\n",
            "age\n",
            "gender\n"
          ]
        }
      ]
    },
    {
      "cell_type": "code",
      "source": [
        "user_names = [\"侍太郎\", \"侍一郎\", \"侍二郎\", \"侍三郎\", \"侍四郎\"]\n",
        "\n",
        "target = \"侍二郎\"\n",
        "\n",
        "for user_name in user_names:\n",
        "  print(user_name)\n",
        "\n",
        "  if(user_name == target):\n",
        "    print(f\"{target}さんが見つかったので、繰り返し処理を強制終了します。\")\n",
        "    break"
      ],
      "metadata": {
        "colab": {
          "base_uri": "https://localhost:8080/"
        },
        "id": "9kEMAfTjZCQr",
        "outputId": "33496b89-c457-4a38-e9d4-33c9cd40231c"
      },
      "execution_count": 14,
      "outputs": [
        {
          "output_type": "stream",
          "name": "stdout",
          "text": [
            "侍太郎\n",
            "侍一郎\n",
            "侍二郎\n",
            "侍二郎さんが見つかったので、繰り返し処理を強制終了します。\n"
          ]
        }
      ]
    },
    {
      "cell_type": "code",
      "source": [
        "score = {\n",
        "    \"国語\": 80,\n",
        "    \"数学\": 55,\n",
        "    \"理科\": 70,\n",
        "    \"社会\": 85,\n",
        "    \"英語\": 60\n",
        "}\n",
        "\n",
        "print(\"合格した科目は以下のとおりです。\")\n",
        "\n",
        "for key, value in score.items():\n",
        "  if(value< 70):\n",
        "    continue\n",
        "  print(f\"{key} : {value}点\")"
      ],
      "metadata": {
        "colab": {
          "base_uri": "https://localhost:8080/"
        },
        "id": "udMixRLTZZiJ",
        "outputId": "aece7ac7-6a5a-401d-eee6-c8d629ec2cd1"
      },
      "execution_count": 17,
      "outputs": [
        {
          "output_type": "stream",
          "name": "stdout",
          "text": [
            "合格した科目は以下のとおりです。\n",
            "国語 : 80点\n",
            "理科 : 70点\n",
            "社会 : 85点\n"
          ]
        }
      ]
    },
    {
      "cell_type": "code",
      "source": [
        "array = [\"水\",\"金\",\"地\",\"火\",\"木\",\"土\",\"天\",\"海\",\"冥\"]\n",
        "\n",
        "for a in array:\n",
        "  print(a)\n",
        "\n",
        "i = 0\n",
        "while i < len(array):\n",
        "    print(array[i])\n",
        "    i = i + 1\n",
        "\n",
        "\n"
      ],
      "metadata": {
        "colab": {
          "base_uri": "https://localhost:8080/"
        },
        "id": "fvJ3anfoaH72",
        "outputId": "5a67a93f-2567-4a09-91a5-266905c63e2a"
      },
      "execution_count": 27,
      "outputs": [
        {
          "output_type": "stream",
          "name": "stdout",
          "text": [
            "水\n",
            "金\n",
            "地\n",
            "火\n",
            "木\n",
            "土\n",
            "天\n",
            "海\n",
            "冥\n",
            "水\n",
            "金\n",
            "地\n",
            "火\n",
            "木\n",
            "土\n",
            "天\n",
            "海\n",
            "冥\n"
          ]
        }
      ]
    },
    {
      "cell_type": "code",
      "source": [],
      "metadata": {
        "id": "83UEwEBebhXW"
      },
      "execution_count": null,
      "outputs": []
    }
  ]
}